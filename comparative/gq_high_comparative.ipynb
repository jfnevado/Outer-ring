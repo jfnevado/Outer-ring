{
 "cells": [
  {
   "cell_type": "code",
   "execution_count": 3,
   "metadata": {},
   "outputs": [],
   "source": [
    "import pandas as pd"
   ]
  },
  {
   "cell_type": "code",
   "execution_count": 6,
   "metadata": {},
   "outputs": [],
   "source": [
    "gq = pd.read_csv(\"gq_bought_weekend.csv\")\n",
    "high = pd.read_csv(\"high_bought_weekend.csv\")\n",
    "\n",
    "# Encontrar los valores repetidos en ambos dataframes\n",
    "common_values = high['wallets'][high['wallets'].isin(gq['wallets'])].dropna()\n",
    "common_values = common_values.reset_index()\n",
    "common_values.drop(columns=['index'], axis=1, inplace=True)"
   ]
  },
  {
   "cell_type": "code",
   "execution_count": 7,
   "metadata": {},
   "outputs": [
    {
     "data": {
      "text/html": [
       "<div>\n",
       "<style scoped>\n",
       "    .dataframe tbody tr th:only-of-type {\n",
       "        vertical-align: middle;\n",
       "    }\n",
       "\n",
       "    .dataframe tbody tr th {\n",
       "        vertical-align: top;\n",
       "    }\n",
       "\n",
       "    .dataframe thead th {\n",
       "        text-align: right;\n",
       "    }\n",
       "</style>\n",
       "<table border=\"1\" class=\"dataframe\">\n",
       "  <thead>\n",
       "    <tr style=\"text-align: right;\">\n",
       "      <th></th>\n",
       "      <th>Token</th>\n",
       "      <th>Wallets</th>\n",
       "    </tr>\n",
       "  </thead>\n",
       "  <tbody>\n",
       "    <tr>\n",
       "      <th>0</th>\n",
       "      <td>GQ</td>\n",
       "      <td>987</td>\n",
       "    </tr>\n",
       "    <tr>\n",
       "      <th>1</th>\n",
       "      <td>HIGH</td>\n",
       "      <td>1507</td>\n",
       "    </tr>\n",
       "    <tr>\n",
       "      <th>2</th>\n",
       "      <td>Ambos</td>\n",
       "      <td>53</td>\n",
       "    </tr>\n",
       "  </tbody>\n",
       "</table>\n",
       "</div>"
      ],
      "text/plain": [
       "   Token  Wallets\n",
       "0     GQ      987\n",
       "1   HIGH     1507\n",
       "2  Ambos       53"
      ]
     },
     "execution_count": 7,
     "metadata": {},
     "output_type": "execute_result"
    }
   ],
   "source": [
    "d = {'Token': [\"GQ\", \"HIGH\", \"Ambos\"], 'Wallets': [len(gq), len(high), len(common_values)]}\n",
    "df = pd.DataFrame(data=d)\n",
    "df"
   ]
  },
  {
   "cell_type": "code",
   "execution_count": 8,
   "metadata": {},
   "outputs": [
    {
     "name": "stdout",
     "output_type": "stream",
     "text": [
      "0       0xe2fc31f816a9b94326492132018c3aecc4a93ae1\n",
      "1       0x28cc814be3b994187b7f8bfed10516a84a671119\n",
      "2       0xd3744b27813f2456ff3ddf78214bf57735d5f1a1\n",
      "3       0xdb6f1920a889355780af7570773609bd8cb1f498\n",
      "4       0xd03ccfe61e66112472541888485ae67425973b01\n",
      "                           ...                    \n",
      "1502    0x535daa8e7a56577f1fab1ae4f7631054c584ed45\n",
      "1503    0x730b428580d5131aa05018ebd88133cb37e51d18\n",
      "1504    0x10a4751849d73cc931ad5583dec296d286cc1ad2\n",
      "1505    0x87adb1276377184b149601fcff1c9bc29e88ad0f\n",
      "1506    0xc62f44943ceb6bc1cfc6811a2124ec6f4e490c49\n",
      "Name: wallets, Length: 1507, dtype: object\n"
     ]
    }
   ],
   "source": [
    "print(high['wallets'])"
   ]
  },
  {
   "cell_type": "code",
   "execution_count": 9,
   "metadata": {},
   "outputs": [
    {
     "name": "stdout",
     "output_type": "stream",
     "text": [
      "                                        wallets\n",
      "0    0xb88d09175676913d69924acac17ec69037f1551e\n",
      "1    0xef713415d4c058cb3cd5224174e28c9384d08e21\n",
      "2    0x2ad6b5f8d411d127e43189fdffa01a256aaa1e98\n",
      "3    0x5ac19e17ffc41d091131d62628d0e94796949262\n",
      "4    0xad570c61f88bd902141f7a8189eb444798c42225\n",
      "..                                          ...\n",
      "982  0xdbc14d3dede38d400b79dcb408ad5bf35acf06bd\n",
      "983  0x8495773eb82f656fc4e5729dc37934e80f212d29\n",
      "984  0x3b0114849d72ac001a0009062d091d69797325f5\n",
      "985  0x6d9f2a9ffe25442674302cbbae41564b40d9e85c\n",
      "986  0xd3ac3ff660fbdc812fa929a0d649627d77439d26\n",
      "\n",
      "[987 rows x 1 columns]\n"
     ]
    }
   ],
   "source": [
    "print(gq)"
   ]
  },
  {
   "cell_type": "code",
   "execution_count": 10,
   "metadata": {},
   "outputs": [],
   "source": [
    "df.to_csv(\"wallets_comparative.csv\", index=False)"
   ]
  },
  {
   "cell_type": "code",
   "execution_count": null,
   "metadata": {},
   "outputs": [],
   "source": []
  }
 ],
 "metadata": {
  "kernelspec": {
   "display_name": "binance",
   "language": "python",
   "name": "python3"
  },
  "language_info": {
   "codemirror_mode": {
    "name": "ipython",
    "version": 3
   },
   "file_extension": ".py",
   "mimetype": "text/x-python",
   "name": "python",
   "nbconvert_exporter": "python",
   "pygments_lexer": "ipython3",
   "version": "3.9.13"
  },
  "orig_nbformat": 4,
  "vscode": {
   "interpreter": {
    "hash": "c2d7b6e577964ad0c477d44f93be731aa98ae063a2b68ce24d46be4b192f64ad"
   }
  }
 },
 "nbformat": 4,
 "nbformat_minor": 2
}
