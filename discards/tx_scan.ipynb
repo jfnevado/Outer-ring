{
 "cells": [
  {
   "cell_type": "code",
   "execution_count": 16,
   "metadata": {},
   "outputs": [],
   "source": [
    "import json\n",
    "from web3 import Web3\n",
    "from web3.middleware import geth_poa_middleware\n",
    "import pickle\n",
    "import requests"
   ]
  },
  {
   "cell_type": "code",
   "execution_count": 2,
   "metadata": {},
   "outputs": [
    {
     "data": {
      "text/plain": [
       "True"
      ]
     },
     "execution_count": 2,
     "metadata": {},
     "output_type": "execute_result"
    }
   ],
   "source": [
    "web3 = Web3(Web3.HTTPProvider(\"https://bsc-dataseed.binance.org/\"))\n",
    "web3.middleware_onion.inject(geth_poa_middleware, layer=0)\n",
    "web3.isConnected()"
   ]
  },
  {
   "cell_type": "code",
   "execution_count": 149,
   "metadata": {},
   "outputs": [],
   "source": [
    "apikey = 'GKDPH6RRX5YSH1TYPMNHNVKGMB6I9V3I8T'\n",
    "\n",
    "address = \"0xF700D4c708C2be1463E355F337603183D20E0808\"\n",
    "\n",
    "w3address = Web3.toChecksumAddress(address.lower())\n",
    "contract = web3.eth.contract(address=w3address, abi=abi)\n",
    "\n",
    "token = contract.functions.name().call()\n",
    "symbol = contract.functions.symbol().call()"
   ]
  },
  {
   "cell_type": "code",
   "execution_count": 150,
   "metadata": {},
   "outputs": [
    {
     "name": "stdout",
     "output_type": "stream",
     "text": [
      "Abi del token: Galactic Quadrant, con simbolo: GQ, recibida correctamente\n"
     ]
    }
   ],
   "source": [
    "#Get ABI\n",
    "\n",
    "url = \"https://api.bscscan.com/api\"\n",
    "params = {\n",
    "    \"module\": \"contract\",\n",
    "    \"action\": \"getabi\",\n",
    "    \"address\": contrac_address,\n",
    "    \"apikey\": apikey\n",
    "}\n",
    "\n",
    "response = requests.get(url, params=params)\n",
    "\n",
    "if response.status_code == 200:\n",
    "    abi = response.json()[\"result\"]\n",
    "    print(f\"Abi del token: {token}, con simbolo: {symbol}, recibida correctamente\")\n",
    "else:\n",
    "    print(\"Error en la solicitud\")"
   ]
  },
  {
   "cell_type": "code",
   "execution_count": 151,
   "metadata": {},
   "outputs": [],
   "source": [
    "#Get \"Internal Transactions\" by Block Range\n",
    "\n",
    "def get_internal_transactions(endblock, numberofblocks):\n",
    "    url = \"https://api.bscscan.com/api\"\n",
    "    params = {\n",
    "        \"module\": \"account\",\n",
    "        \"action\": \"txlistinternal\",\n",
    "        \"startblock\": endblock - numberofblocks,\n",
    "        \"endblock\": endblock,\n",
    "        \"page\": 1,\n",
    "        \"offset\": 10,\n",
    "        \"sort\": \"asc\",\n",
    "        \"apikey\": apikey\n",
    "    }\n",
    "\n",
    "    response = requests.get(url, params=params)\n",
    "\n",
    "    if response.status_code == 200:\n",
    "        transactions = response.json()[\"result\"]\n",
    "        return transactions\n",
    "    else:\n",
    "        return \"Error en la solicitud\"\n",
    "\n",
    "# transactions = get_internal_transactions(0, 2702578)\n",
    "# print(transactions)"
   ]
  },
  {
   "cell_type": "code",
   "execution_count": 152,
   "metadata": {},
   "outputs": [
    {
     "name": "stdout",
     "output_type": "stream",
     "text": [
      "[{'blockNumber': '25313826', 'timeStamp': '1675326081', 'hash': '0x257c024ab7a07041c61b4e21bbbaf679335d51bd2f5b1a7399ec05a822654fa4', 'from': '0xc6ac5ff723e69113717b9a355e022363d4587728', 'to': '0x00000000007124b71d5d286b3863ec8dfcb516f1', 'value': '0', 'contractAddress': '', 'input': '', 'type': 'self-destruct', 'gas': '0', 'gasUsed': '0', 'traceId': '0_1_1', 'isError': '0', 'errCode': ''}, {'blockNumber': '25313826', 'timeStamp': '1675326081', 'hash': '0x257c024ab7a07041c61b4e21bbbaf679335d51bd2f5b1a7399ec05a822654fa4', 'from': '0xfa9d5f1a752c313bc084b65cb82aed401dc3e384', 'to': '0x00000000007124b71d5d286b3863ec8dfcb516f1', 'value': '0', 'contractAddress': '', 'input': '', 'type': 'self-destruct', 'gas': '0', 'gasUsed': '0', 'traceId': '0_1_1', 'isError': '0', 'errCode': ''}, {'blockNumber': '25313826', 'timeStamp': '1675326081', 'hash': '0x257c024ab7a07041c61b4e21bbbaf679335d51bd2f5b1a7399ec05a822654fa4', 'from': '0xb3fc7161de293dab1560b3ab7157673bbbb51a14', 'to': '0x00000000007124b71d5d286b3863ec8dfcb516f1', 'value': '0', 'contractAddress': '', 'input': '', 'type': 'self-destruct', 'gas': '0', 'gasUsed': '0', 'traceId': '0_1_1', 'isError': '0', 'errCode': ''}, {'blockNumber': '25313826', 'timeStamp': '1675326081', 'hash': '0x8551d7cb08b8da65383ec27405afa540026de2383a3a904365f49805a57585c2', 'from': '0xdcfd20dce84fb65f5d6166c530444e3db76e960d', 'to': '0x00000000f3b7cac0879ffc15fb0822b9140e3a5d', 'value': '0', 'contractAddress': '', 'input': '', 'type': 'self-destruct', 'gas': '0', 'gasUsed': '0', 'traceId': '0_1_1', 'isError': '0', 'errCode': ''}, {'blockNumber': '25313826', 'timeStamp': '1675326081', 'hash': '0xb3b03aabf01dda4a00932c510e81c9c16b529f9ae59b6536bcc9682c8cf5a6c8', 'from': '0xfcc4c36022770efb1707630d142e78dc04fecb9c', 'to': '0x0000000000016a723d0d576df7dc79ec149ac760', 'value': '0', 'contractAddress': '', 'input': '', 'type': 'self-destruct', 'gas': '0', 'gasUsed': '0', 'traceId': '0_1_1', 'isError': '0', 'errCode': ''}, {'blockNumber': '25313826', 'timeStamp': '1675326081', 'hash': '0x59c47d17d84ecba5a8c03cd005d2dfea327b6362788762191ffd70c6a7e74cd5', 'from': '0xede4a2cec60c54404157995846d9ae014db66cca', 'to': '0xbb4cdb9cbd36b01bd1cbaebf2de08d9173bc095c', 'value': '2410000000000000000', 'contractAddress': '', 'input': '', 'type': 'call', 'gas': '885896', 'gasUsed': '22674', 'traceId': '0_1_1', 'isError': '0', 'errCode': ''}, {'blockNumber': '25313826', 'timeStamp': '1675326081', 'hash': '0x59c47d17d84ecba5a8c03cd005d2dfea327b6362788762191ffd70c6a7e74cd5', 'from': '0x4a464dc067030b9f1c327ca581cdceb32765e6e9', 'to': '0x0000000000004946c0e9f43f4dee607b0ef1fa1c', 'value': '0', 'contractAddress': '', 'input': '', 'type': 'self-destruct', 'gas': '0', 'gasUsed': '0', 'traceId': '0_1_1_1', 'isError': '0', 'errCode': ''}, {'blockNumber': '25313826', 'timeStamp': '1675326081', 'hash': '0x59c47d17d84ecba5a8c03cd005d2dfea327b6362788762191ffd70c6a7e74cd5', 'from': '0x77fdcad63cc871064660a998a309bcf4436580ae', 'to': '0x0000000000004946c0e9f43f4dee607b0ef1fa1c', 'value': '0', 'contractAddress': '', 'input': '', 'type': 'self-destruct', 'gas': '0', 'gasUsed': '0', 'traceId': '0_1_1_1', 'isError': '0', 'errCode': ''}, {'blockNumber': '25313826', 'timeStamp': '1675326081', 'hash': '0x59c47d17d84ecba5a8c03cd005d2dfea327b6362788762191ffd70c6a7e74cd5', 'from': '0x9a8b518ade8900fd5cc5e0b879b93cd2026153f4', 'to': '0x0000000000004946c0e9f43f4dee607b0ef1fa1c', 'value': '0', 'contractAddress': '', 'input': '', 'type': 'self-destruct', 'gas': '0', 'gasUsed': '0', 'traceId': '0_1_1_1', 'isError': '0', 'errCode': ''}, {'blockNumber': '25313826', 'timeStamp': '1675326081', 'hash': '0x59c47d17d84ecba5a8c03cd005d2dfea327b6362788762191ffd70c6a7e74cd5', 'from': '0x47e0d891cd328396bbd68963eb64cd08e1eac26b', 'to': '0x0000000000004946c0e9f43f4dee607b0ef1fa1c', 'value': '0', 'contractAddress': '', 'input': '', 'type': 'self-destruct', 'gas': '0', 'gasUsed': '0', 'traceId': '0_1_1_1', 'isError': '0', 'errCode': ''}]\n"
     ]
    }
   ],
   "source": [
    "currentblock = web3.eth.blockNumber\n",
    "\n",
    "transactions = get_internal_transactions(currentblock, 10)\n",
    "print(transactions)"
   ]
  },
  {
   "cell_type": "code",
   "execution_count": 153,
   "metadata": {},
   "outputs": [
    {
     "data": {
      "text/plain": [
       "{'blockNumber': '25313826',\n",
       " 'timeStamp': '1675326081',\n",
       " 'hash': '0x257c024ab7a07041c61b4e21bbbaf679335d51bd2f5b1a7399ec05a822654fa4',\n",
       " 'from': '0xc6ac5ff723e69113717b9a355e022363d4587728',\n",
       " 'to': '0x00000000007124b71d5d286b3863ec8dfcb516f1',\n",
       " 'value': '0',\n",
       " 'contractAddress': '',\n",
       " 'input': '',\n",
       " 'type': 'self-destruct',\n",
       " 'gas': '0',\n",
       " 'gasUsed': '0',\n",
       " 'traceId': '0_1_1',\n",
       " 'isError': '0',\n",
       " 'errCode': ''}"
      ]
     },
     "execution_count": 153,
     "metadata": {},
     "output_type": "execute_result"
    }
   ],
   "source": [
    "transactions[0]"
   ]
  },
  {
   "cell_type": "code",
   "execution_count": 44,
   "metadata": {},
   "outputs": [
    {
     "data": {
      "text/plain": [
       "['0x0000000000004946c0e9f43f4dee607b0ef1fa1c',\n",
       " '0xbb4cdb9cbd36b01bd1cbaebf2de08d9173bc095c',\n",
       " '0x99711c76f66444bed4a4f58b793f0ad150f5e3f4',\n",
       " '0x0000000000004946c0e9f43f4dee607b0ef1fa1c',\n",
       " '0x0000000000004946c0e9f43f4dee607b0ef1fa1c',\n",
       " '0x0000000000004946c0e9f43f4dee607b0ef1fa1c',\n",
       " '0xbb4cdb9cbd36b01bd1cbaebf2de08d9173bc095c',\n",
       " '0xa1441132af1284bbaf6a3ae86a1032dce875edc6',\n",
       " '0x8b9334d88f53fcd00eaade89ef3002ebfa19c845',\n",
       " '0xbb4cdb9cbd36b01bd1cbaebf2de08d9173bc095c']"
      ]
     },
     "execution_count": 44,
     "metadata": {},
     "output_type": "execute_result"
    }
   ],
   "source": [
    "#Save hash in a list\n",
    "\n",
    "to = []\n",
    "for i in range(len(transactions)):\n",
    "    to_value = transactions[i]['to']\n",
    "    to.append(to_value)\n",
    "\n",
    "to"
   ]
  },
  {
   "cell_type": "code",
   "execution_count": 41,
   "metadata": {},
   "outputs": [
    {
     "data": {
      "text/plain": [
       "['0x008cc78e7bababc1b40add2061c89376b720e7a9f58055e6100cecd78bec64d2',\n",
       " '0xb6e5d815e2bc8599c42e4eba58867d3e9db12570ea8e9335c42f4fcb85bb8f43',\n",
       " '0xb6e5d815e2bc8599c42e4eba58867d3e9db12570ea8e9335c42f4fcb85bb8f43',\n",
       " '0x285b59f2faf3788e67b4beca88db9bb8e38d251b67976224d1d1d6490702687f',\n",
       " '0x285b59f2faf3788e67b4beca88db9bb8e38d251b67976224d1d1d6490702687f',\n",
       " '0x285b59f2faf3788e67b4beca88db9bb8e38d251b67976224d1d1d6490702687f',\n",
       " '0x601d997a3945026e5f9f5e9ecc1e528bc25bc59a784b8528f7cd53ad6c4a6604',\n",
       " '0x065d3af3a063c652c3d9357669d5334a825d1d658e79c7f616fcec1d2e75896c',\n",
       " '0xc6e165a45f85ff5407b1bc1e65d86d33e9e998c250a414897a64651ed6ea559b',\n",
       " '0x81384cb80318f76a8b77a8ad812d7fd78617635ad2d456fbcb4ca1bdcf8644b6']"
      ]
     },
     "execution_count": 41,
     "metadata": {},
     "output_type": "execute_result"
    }
   ],
   "source": [
    "#Save hash in a list\n",
    "\n",
    "hash = []\n",
    "for i in range(len(transactions)):\n",
    "    hash_value = transactions[i]['hash']\n",
    "    hash.append(hash_value)\n",
    "\n",
    "hash"
   ]
  },
  {
   "cell_type": "code",
   "execution_count": 155,
   "metadata": {},
   "outputs": [],
   "source": [
    "#Get Logs by Address\n",
    "\n",
    "def get_logs(address, endblock, blocks, topic0):\n",
    "    url = \"https://api.bscscan.com/api\"\n",
    "    params = {\n",
    "        \"module\": \"logs\",\n",
    "        \"action\": \"getLogs\",\n",
    "        \"fromBlock\": endblock - blocks,\n",
    "        \"toBlock\": endblock,\n",
    "        \"address\": address,\n",
    "        \"topic0\": topic0,\n",
    "        \"apikey\": apikey\n",
    "    }\n",
    "\n",
    "    response = requests.get(url, params=params)\n",
    "\n",
    "    if response.status_code == 200:\n",
    "        logs = response.json()[\"result\"]\n",
    "        return logs\n",
    "    else:\n",
    "        return \"Error en la solicitud\"\n",
    "\n",
    "# transactions = get_internal_transactions(0, 2702578)\n",
    "# print(transactions)"
   ]
  },
  {
   "cell_type": "code",
   "execution_count": 156,
   "metadata": {},
   "outputs": [],
   "source": [
    "#Get Logs by Address sin topic0\n",
    "\n",
    "def get_logs(address, endblock, blocks):\n",
    "    url = \"https://api.bscscan.com/api\"\n",
    "    params = {\n",
    "        \"module\": \"logs\",\n",
    "        \"action\": \"getLogs\",\n",
    "        \"fromBlock\": endblock - blocks,\n",
    "        \"toBlock\": endblock,\n",
    "        \"address\": address,\n",
    "        \"apikey\": apikey\n",
    "    }\n",
    "\n",
    "    response = requests.get(url, params=params)\n",
    "\n",
    "    if response.status_code == 200:\n",
    "        logs = response.json()[\"result\"]\n",
    "        return logs\n",
    "    else:\n",
    "        return \"Error en la solicitud\""
   ]
  },
  {
   "cell_type": "code",
   "execution_count": 157,
   "metadata": {},
   "outputs": [
    {
     "name": "stdout",
     "output_type": "stream",
     "text": [
      "25313836\n"
     ]
    }
   ],
   "source": [
    "approval_method = '0x8c5be1e5ebec7d5bd14f71427d1e84f3dd0314c0f7b2291e5b200ac8c7c3b925'\n",
    "transfer_method = '0xddf252ad1be2c89b69c2b068fc378daa952ba7f163c4a11628f55a4df523b3ef'\n",
    "stake_method = '0xe1fffcc4923d04b559f4d29a8bfc6cda04eb5b0d3c460751c2402c5c5cc9109c'\n",
    "address = '0xF700D4c708C2be1463E355F337603183D20E0808'\n",
    "endblock = currentblock\n",
    "topic0 = approval_method\n",
    "\n",
    "print(endblock)\n",
    "\n"
   ]
  },
  {
   "cell_type": "code",
   "execution_count": 161,
   "metadata": {},
   "outputs": [],
   "source": [
    "\n",
    "logs = get_logs(address,endblock,100)\n",
    "\n"
   ]
  },
  {
   "cell_type": "code",
   "execution_count": 170,
   "metadata": {},
   "outputs": [
    {
     "name": "stdout",
     "output_type": "stream",
     "text": [
      "6\n"
     ]
    },
    {
     "data": {
      "text/plain": [
       "['0x25b1045178b2f14d66848fbaeb6797690890b17c3d8d4afd3aabf55f6335c919',\n",
       " '0xf62707f9ec03dd88a03bfcf1dea85759b3f8efbc733e382756906446771dad73',\n",
       " '0xca0fb1e62cf6593a6830840ce965b31ff664240d04e513d73286144ac2865529',\n",
       " '0xe13aa4435b2b2b448cebc2eb6d9d2e8913b43ba960df75f534d718d5a059ad68']"
      ]
     },
     "execution_count": 170,
     "metadata": {},
     "output_type": "execute_result"
    }
   ],
   "source": [
    "print(len(logs))\n",
    "\n",
    "#Save hash in a list\n",
    "\n",
    "hash = []\n",
    "for i in range(len(logs)):\n",
    "    hash_value = logs[i]['transactionHash']\n",
    "    hash.append(hash_value)\n",
    "\n",
    "unique_hash = list(set(hash))\n",
    "unique_hash"
   ]
  },
  {
   "cell_type": "code",
   "execution_count": 168,
   "metadata": {},
   "outputs": [
    {
     "data": {
      "text/plain": [
       "[{'address': '0xf700d4c708c2be1463e355f337603183d20e0808',\n",
       "  'topics': ['0xddf252ad1be2c89b69c2b068fc378daa952ba7f163c4a11628f55a4df523b3ef',\n",
       "   '0x000000000000000000000000e1195faa3e0070cf1444685865e5a0775ad5124c',\n",
       "   '0x00000000000000000000000054c8393340385bd669f9be4c4a1827c8b004c81a'],\n",
       "  'data': '0x00000000000000000000000000000000000000000000001f7e4d02feb72f0000',\n",
       "  'blockNumber': '0x1824208',\n",
       "  'blockHash': '0xbcfa07fba896dd4822161966e290429b5313940d24879ba4baf2fca19bccedfb',\n",
       "  'timeStamp': '0x63db7224',\n",
       "  'gasPrice': '0x12a05f200',\n",
       "  'gasUsed': '0xb28b',\n",
       "  'logIndex': '0xe1',\n",
       "  'transactionHash': '0x25b1045178b2f14d66848fbaeb6797690890b17c3d8d4afd3aabf55f6335c919',\n",
       "  'transactionIndex': '0x4b'},\n",
       " {'address': '0xf700d4c708c2be1463e355f337603183d20e0808',\n",
       "  'topics': ['0x8c5be1e5ebec7d5bd14f71427d1e84f3dd0314c0f7b2291e5b200ac8c7c3b925',\n",
       "   '0x0000000000000000000000003fa131c0f534587814b9d407d3d239ce9ff699bc',\n",
       "   '0x000000000000000000000000b88d09175676913d69924acac17ec69037f1551e'],\n",
       "  'data': '0xffffffffffffffffffffffffffffffffffffffffffffffffffffffffffffffff',\n",
       "  'blockNumber': '0x182420e',\n",
       "  'blockHash': '0x1b25c2293488af7bcff7f8b2583a2449acc16a5384373a4e493d882bac2e93af',\n",
       "  'timeStamp': '0x63db7236',\n",
       "  'gasPrice': '0x12a05f200',\n",
       "  'gasUsed': '0xadf4',\n",
       "  'logIndex': '0x160',\n",
       "  'transactionHash': '0xe13aa4435b2b2b448cebc2eb6d9d2e8913b43ba960df75f534d718d5a059ad68',\n",
       "  'transactionIndex': '0x78'},\n",
       " {'address': '0xf700d4c708c2be1463e355f337603183d20e0808',\n",
       "  'topics': ['0xddf252ad1be2c89b69c2b068fc378daa952ba7f163c4a11628f55a4df523b3ef',\n",
       "   '0x000000000000000000000000d92b2a99da006e72b48a14e4c23766e22b4ce395',\n",
       "   '0x00000000000000000000000072121d60b0e2f01c0fb7fe32ca24021b42165a40'],\n",
       "  'data': '0x000000000000000000000000000000000000000000003f870857a3e0e3800000',\n",
       "  'blockNumber': '0x1824216',\n",
       "  'blockHash': '0x82f1202163f6d66ca0a832339eafd965e3ec458e7976481b655be4cf3e24a0dd',\n",
       "  'timeStamp': '0x63db7253',\n",
       "  'gasPrice': '0x165a0bc00',\n",
       "  'gasUsed': '0x223fa',\n",
       "  'logIndex': '0x4d',\n",
       "  'transactionHash': '0xf62707f9ec03dd88a03bfcf1dea85759b3f8efbc733e382756906446771dad73',\n",
       "  'transactionIndex': '0x18'},\n",
       " {'address': '0xf700d4c708c2be1463e355f337603183d20e0808',\n",
       "  'topics': ['0x8c5be1e5ebec7d5bd14f71427d1e84f3dd0314c0f7b2291e5b200ac8c7c3b925',\n",
       "   '0x000000000000000000000000d92b2a99da006e72b48a14e4c23766e22b4ce395',\n",
       "   '0x00000000000000000000000010ed43c718714eb63d5aa57b78b54704e256024e'],\n",
       "  'data': '0xfffffffffffffffffffffffffffffffffffffffffffe3bc42237119f6d49e4f8',\n",
       "  'blockNumber': '0x1824216',\n",
       "  'blockHash': '0x82f1202163f6d66ca0a832339eafd965e3ec458e7976481b655be4cf3e24a0dd',\n",
       "  'timeStamp': '0x63db7253',\n",
       "  'gasPrice': '0x165a0bc00',\n",
       "  'gasUsed': '0x223fa',\n",
       "  'logIndex': '0x4e',\n",
       "  'transactionHash': '0xf62707f9ec03dd88a03bfcf1dea85759b3f8efbc733e382756906446771dad73',\n",
       "  'transactionIndex': '0x18'},\n",
       " {'address': '0xf700d4c708c2be1463e355f337603183d20e0808',\n",
       "  'topics': ['0xddf252ad1be2c89b69c2b068fc378daa952ba7f163c4a11628f55a4df523b3ef',\n",
       "   '0x0000000000000000000000003fa131c0f534587814b9d407d3d239ce9ff699bc',\n",
       "   '0x000000000000000000000000b88d09175676913d69924acac17ec69037f1551e'],\n",
       "  'data': '0x00000000000000000000000000000000000000000000020887701c729926a000',\n",
       "  'blockNumber': '0x1824219',\n",
       "  'blockHash': '0x6ea666970e3dc3ddf7dbd5594dfe989dbd44c27a47c9aa7e6f04d68b86af8a7b',\n",
       "  'timeStamp': '0x63db725f',\n",
       "  'gasPrice': '0x12a05f200',\n",
       "  'gasUsed': '0x1b21b',\n",
       "  'logIndex': '0x2da',\n",
       "  'transactionHash': '0xca0fb1e62cf6593a6830840ce965b31ff664240d04e513d73286144ac2865529',\n",
       "  'transactionIndex': '0xba'},\n",
       " {'address': '0xf700d4c708c2be1463e355f337603183d20e0808',\n",
       "  'topics': ['0x8c5be1e5ebec7d5bd14f71427d1e84f3dd0314c0f7b2291e5b200ac8c7c3b925',\n",
       "   '0x0000000000000000000000003fa131c0f534587814b9d407d3d239ce9ff699bc',\n",
       "   '0x000000000000000000000000b88d09175676913d69924acac17ec69037f1551e'],\n",
       "  'data': '0xfffffffffffffffffffffffffffffffffffffffffffffdf7788fe38d66d95fff',\n",
       "  'blockNumber': '0x1824219',\n",
       "  'blockHash': '0x6ea666970e3dc3ddf7dbd5594dfe989dbd44c27a47c9aa7e6f04d68b86af8a7b',\n",
       "  'timeStamp': '0x63db725f',\n",
       "  'gasPrice': '0x12a05f200',\n",
       "  'gasUsed': '0x1b21b',\n",
       "  'logIndex': '0x2db',\n",
       "  'transactionHash': '0xca0fb1e62cf6593a6830840ce965b31ff664240d04e513d73286144ac2865529',\n",
       "  'transactionIndex': '0xba'}]"
      ]
     },
     "execution_count": 168,
     "metadata": {},
     "output_type": "execute_result"
    }
   ],
   "source": [
    "logs"
   ]
  },
  {
   "cell_type": "code",
   "execution_count": null,
   "metadata": {},
   "outputs": [],
   "source": []
  }
 ],
 "metadata": {
  "kernelspec": {
   "display_name": "binance",
   "language": "python",
   "name": "python3"
  },
  "language_info": {
   "codemirror_mode": {
    "name": "ipython",
    "version": 3
   },
   "file_extension": ".py",
   "mimetype": "text/x-python",
   "name": "python",
   "nbconvert_exporter": "python",
   "pygments_lexer": "ipython3",
   "version": "3.9.13 (tags/v3.9.13:6de2ca5, May 17 2022, 16:36:42) [MSC v.1929 64 bit (AMD64)]"
  },
  "orig_nbformat": 4,
  "vscode": {
   "interpreter": {
    "hash": "c2d7b6e577964ad0c477d44f93be731aa98ae063a2b68ce24d46be4b192f64ad"
   }
  }
 },
 "nbformat": 4,
 "nbformat_minor": 2
}
