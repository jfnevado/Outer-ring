{
 "cells": [
  {
   "cell_type": "code",
   "execution_count": 1,
   "metadata": {},
   "outputs": [],
   "source": [
    "import requests"
   ]
  },
  {
   "cell_type": "code",
   "execution_count": 2,
   "metadata": {},
   "outputs": [],
   "source": [
    "apikey = 'GKDPH6RRX5YSH1TYPMNHNVKGMB6I9V3I8T'"
   ]
  },
  {
   "cell_type": "code",
   "execution_count": 3,
   "metadata": {},
   "outputs": [],
   "source": [
    "# Configure requests\n",
    "module = 'account'\n",
    "action = 'balance'\n",
    "address = '0x70F657164e5b75689b64B7fd1fA275F334f28e18'"
   ]
  },
  {
   "cell_type": "code",
   "execution_count": 4,
   "metadata": {},
   "outputs": [],
   "source": [
    "# Define endopint\n",
    "endpoint = \"https://api.bscscan.com/api?\" + \\\n",
    "           \"module=\" + module + \\\n",
    "           \"&action=\" + action + \\\n",
    "           \"&address=\" + address + \\\n",
    "           \"&apikey=\" + apikey"
   ]
  },
  {
   "cell_type": "code",
   "execution_count": 5,
   "metadata": {},
   "outputs": [
    {
     "name": "stdout",
     "output_type": "stream",
     "text": [
      "Block number: 460471528424670899\n"
     ]
    }
   ],
   "source": [
    "# Make a GET request to the endpoint\n",
    "response = requests.get(endpoint)\n",
    "\n",
    "# Check if the request was successful\n",
    "if response.status_code == 200:\n",
    "    # Parse the JSON response\n",
    "    data = response.json()\n",
    "\n",
    "    # Print the block number\n",
    "    print(\"Block number:\", data[\"result\"])\n",
    "else:\n",
    "    # Print an error message\n",
    "    print(\"Failed to retrieve data from BSCScan API. Response code:\", response.status_code)"
   ]
  },
  {
   "cell_type": "code",
   "execution_count": 6,
   "metadata": {},
   "outputs": [
    {
     "data": {
      "text/plain": [
       "{'status': '1', 'message': 'OK', 'result': '460471528424670899'}"
      ]
     },
     "execution_count": 6,
     "metadata": {},
     "output_type": "execute_result"
    }
   ],
   "source": [
    "data"
   ]
  },
  {
   "cell_type": "code",
   "execution_count": 7,
   "metadata": {},
   "outputs": [
    {
     "name": "stdout",
     "output_type": "stream",
     "text": [
      "{'status': '1', 'message': 'OK', 'result': '460471528424670899'}\n"
     ]
    },
    {
     "data": {
      "text/plain": [
       "0.4604715284246709"
      ]
     },
     "execution_count": 7,
     "metadata": {},
     "output_type": "execute_result"
    }
   ],
   "source": [
    "# Make result in bnb\n",
    "\n",
    "print(data)\n",
    "conversor = 1000000000000000000\n",
    "bnb = int(data.get('result'))/conversor\n",
    "bnb\n"
   ]
  }
 ],
 "metadata": {
  "kernelspec": {
   "display_name": "Python 3",
   "language": "python",
   "name": "python3"
  },
  "language_info": {
   "codemirror_mode": {
    "name": "ipython",
    "version": 3
   },
   "file_extension": ".py",
   "mimetype": "text/x-python",
   "name": "python",
   "nbconvert_exporter": "python",
   "pygments_lexer": "ipython3",
   "version": "3.9.13 (tags/v3.9.13:6de2ca5, May 17 2022, 16:36:42) [MSC v.1929 64 bit (AMD64)]"
  },
  "orig_nbformat": 4,
  "vscode": {
   "interpreter": {
    "hash": "0d965ec432b451cd788c077ab0eab2ab60ec5a6c7750c616530cda6729dd0ec9"
   }
  }
 },
 "nbformat": 4,
 "nbformat_minor": 2
}
